{
 "cells": [
  {
   "cell_type": "markdown",
   "id": "90cf77b7",
   "metadata": {},
   "source": [
    "- 결측치X  \n",
    "- 대출기간 36, 60 months  \n",
    "- train.csv로 학습시킨 후 test.csv로 성능 확인 -> 제출 = test.csv"
   ]
  },
  {
   "cell_type": "code",
   "execution_count": 1,
   "id": "0d6bb974",
   "metadata": {},
   "outputs": [],
   "source": [
    "import pandas as pd"
   ]
  },
  {
   "cell_type": "code",
   "execution_count": 2,
   "id": "76a28425",
   "metadata": {},
   "outputs": [],
   "source": [
    "test = pd.read_csv(\"C:/Users/user/Downloads/대출등급예측모델/test.csv\")\n",
    "train = pd.read_csv(\"C:/Users/user/Downloads/대출등급예측모델/train.csv\")"
   ]
  },
  {
   "cell_type": "code",
   "execution_count": 3,
   "id": "55e55536",
   "metadata": {},
   "outputs": [
    {
     "name": "stdout",
     "output_type": "stream",
     "text": [
      "<class 'pandas.core.frame.DataFrame'>\n",
      "RangeIndex: 96294 entries, 0 to 96293\n",
      "Data columns (total 15 columns):\n",
      " #   Column        Non-Null Count  Dtype  \n",
      "---  ------        --------------  -----  \n",
      " 0   ID            96294 non-null  object \n",
      " 1   대출금액          96294 non-null  int64  \n",
      " 2   대출기간          96294 non-null  object \n",
      " 3   근로기간          96294 non-null  object \n",
      " 4   주택소유상태        96294 non-null  object \n",
      " 5   연간소득          96294 non-null  int64  \n",
      " 6   부채_대비_소득_비율   96294 non-null  float64\n",
      " 7   총계좌수          96294 non-null  int64  \n",
      " 8   대출목적          96294 non-null  object \n",
      " 9   최근_2년간_연체_횟수  96294 non-null  int64  \n",
      " 10  총상환원금         96294 non-null  int64  \n",
      " 11  총상환이자         96294 non-null  float64\n",
      " 12  총연체금액         96294 non-null  float64\n",
      " 13  연체계좌수         96294 non-null  float64\n",
      " 14  대출등급          96294 non-null  object \n",
      "dtypes: float64(4), int64(5), object(6)\n",
      "memory usage: 11.0+ MB\n"
     ]
    }
   ],
   "source": [
    "train.info()"
   ]
  },
  {
   "cell_type": "code",
   "execution_count": 4,
   "id": "5d33a93f",
   "metadata": {},
   "outputs": [
    {
     "name": "stdout",
     "output_type": "stream",
     "text": [
      "<class 'pandas.core.frame.DataFrame'>\n",
      "RangeIndex: 64197 entries, 0 to 64196\n",
      "Data columns (total 14 columns):\n",
      " #   Column        Non-Null Count  Dtype  \n",
      "---  ------        --------------  -----  \n",
      " 0   ID            64197 non-null  object \n",
      " 1   대출금액          64197 non-null  int64  \n",
      " 2   대출기간          64197 non-null  object \n",
      " 3   근로기간          64197 non-null  object \n",
      " 4   주택소유상태        64197 non-null  object \n",
      " 5   연간소득          64197 non-null  int64  \n",
      " 6   부채_대비_소득_비율   64197 non-null  float64\n",
      " 7   총계좌수          64197 non-null  int64  \n",
      " 8   대출목적          64197 non-null  object \n",
      " 9   최근_2년간_연체_횟수  64197 non-null  int64  \n",
      " 10  총상환원금         64197 non-null  int64  \n",
      " 11  총상환이자         64197 non-null  float64\n",
      " 12  총연체금액         64197 non-null  float64\n",
      " 13  연체계좌수         64197 non-null  float64\n",
      "dtypes: float64(4), int64(5), object(5)\n",
      "memory usage: 6.9+ MB\n"
     ]
    }
   ],
   "source": [
    "test.info()"
   ]
  },
  {
   "cell_type": "code",
   "execution_count": 5,
   "id": "625ac68d",
   "metadata": {
    "scrolled": false
   },
   "outputs": [
    {
     "data": {
      "text/html": [
       "<div>\n",
       "<style scoped>\n",
       "    .dataframe tbody tr th:only-of-type {\n",
       "        vertical-align: middle;\n",
       "    }\n",
       "\n",
       "    .dataframe tbody tr th {\n",
       "        vertical-align: top;\n",
       "    }\n",
       "\n",
       "    .dataframe thead th {\n",
       "        text-align: right;\n",
       "    }\n",
       "</style>\n",
       "<table border=\"1\" class=\"dataframe\">\n",
       "  <thead>\n",
       "    <tr style=\"text-align: right;\">\n",
       "      <th></th>\n",
       "      <th>ID</th>\n",
       "      <th>대출금액</th>\n",
       "      <th>대출기간</th>\n",
       "      <th>근로기간</th>\n",
       "      <th>주택소유상태</th>\n",
       "      <th>연간소득</th>\n",
       "      <th>부채_대비_소득_비율</th>\n",
       "      <th>총계좌수</th>\n",
       "      <th>대출목적</th>\n",
       "      <th>최근_2년간_연체_횟수</th>\n",
       "      <th>총상환원금</th>\n",
       "      <th>총상환이자</th>\n",
       "      <th>총연체금액</th>\n",
       "      <th>연체계좌수</th>\n",
       "      <th>대출등급</th>\n",
       "    </tr>\n",
       "  </thead>\n",
       "  <tbody>\n",
       "    <tr>\n",
       "      <th>28730</th>\n",
       "      <td>TRAIN_28730</td>\n",
       "      <td>41160000</td>\n",
       "      <td>36 months</td>\n",
       "      <td>10+ years</td>\n",
       "      <td>ANY</td>\n",
       "      <td>93600000</td>\n",
       "      <td>17.71</td>\n",
       "      <td>20</td>\n",
       "      <td>기타</td>\n",
       "      <td>0</td>\n",
       "      <td>0</td>\n",
       "      <td>0.0</td>\n",
       "      <td>0.0</td>\n",
       "      <td>0.0</td>\n",
       "      <td>C</td>\n",
       "    </tr>\n",
       "  </tbody>\n",
       "</table>\n",
       "</div>"
      ],
      "text/plain": [
       "                ID      대출금액        대출기간       근로기간 주택소유상태      연간소득  \\\n",
       "28730  TRAIN_28730  41160000   36 months  10+ years    ANY  93600000   \n",
       "\n",
       "       부채_대비_소득_비율  총계좌수 대출목적  최근_2년간_연체_횟수  총상환원금  총상환이자  총연체금액  연체계좌수 대출등급  \n",
       "28730        17.71    20   기타             0      0    0.0    0.0    0.0    C  "
      ]
     },
     "execution_count": 5,
     "metadata": {},
     "output_type": "execute_result"
    }
   ],
   "source": [
    "train[train['주택소유상태'] == 'ANY']  #이상치? 삭제?"
   ]
  },
  {
   "cell_type": "code",
   "execution_count": 6,
   "id": "98236a7c",
   "metadata": {},
   "outputs": [],
   "source": [
    "#대출기간, 근로기간, 주택소유상태 숫자로 라벨링"
   ]
  },
  {
   "cell_type": "code",
   "execution_count": 7,
   "id": "7d02b3fc",
   "metadata": {},
   "outputs": [],
   "source": [
    "train['대출기간'] = train['대출기간'].str.replace(' months', '').astype(int)\n",
    "test['대출기간'] = test['대출기간'].str.replace(' months', '').astype(int)"
   ]
  },
  {
   "cell_type": "code",
   "execution_count": 8,
   "id": "a3bb059c",
   "metadata": {},
   "outputs": [],
   "source": [
    "train['근로기간'] = train['근로기간'].str.replace('years', '').str.replace('+', '').str.replace('<', '').str.strip()\n",
    "train['근로기간'] = train['근로기간'].replace({'1 year': '1 year', '10 years': '10 years'})\n",
    "train = train[train['근로기간'] != 'Unknown']\n",
    "train['근로기간'] = train['근로기간'].replace({'1': '< 1', '10': '10+'})\n",
    "train['근로기간'] = train['근로기간'].replace({'1 year': '1'})\n",
    "train['근로기간'] = train['근로기간'].str.replace('+', '').str.replace('< 1', '0.5').astype(float)"
   ]
  },
  {
   "cell_type": "code",
   "execution_count": 9,
   "id": "4bb9906b",
   "metadata": {},
   "outputs": [],
   "source": [
    "test['근로기간'] = test['근로기간'].str.replace('years', '').str.replace('+', '').str.replace('<', '').str.strip()\n",
    "test['근로기간'] = test['근로기간'].replace({'1 year': '1 year', '10 years': '10 years'})\n",
    "test = test[test['근로기간'] != 'Unknown']\n",
    "test['근로기간'] = test['근로기간'].replace({'1': '< 1', '10': '10+'})\n",
    "test['근로기간'] = test['근로기간'].replace({'1 year': '1'})\n",
    "test['근로기간'] = test['근로기간'].str.replace('+', '').str.replace('< 1', '0.5').astype(float)"
   ]
  },
  {
   "cell_type": "code",
   "execution_count": 10,
   "id": "3855280b",
   "metadata": {},
   "outputs": [
    {
     "data": {
      "text/plain": [
       "array([ 6. , 10. ,  5. ,  8. ,  9. ,  2. ,  1. ,  3. ,  7. ,  4. ,  0.5])"
      ]
     },
     "execution_count": 10,
     "metadata": {},
     "output_type": "execute_result"
    }
   ],
   "source": [
    "train['근로기간'].unique()"
   ]
  },
  {
   "cell_type": "code",
   "execution_count": 11,
   "id": "1953028e",
   "metadata": {},
   "outputs": [],
   "source": [
    "def change_value(values):\n",
    "    if values == 'RENT':\n",
    "        return 1\n",
    "    elif values == 'MORTGAGE':\n",
    "        return 2\n",
    "    elif values == 'OWN':\n",
    "        return 3\n",
    "    elif values == 'ANY':\n",
    "        return 4"
   ]
  },
  {
   "cell_type": "code",
   "execution_count": 12,
   "id": "1805637d",
   "metadata": {},
   "outputs": [
    {
     "data": {
      "text/plain": [
       "array(['RENT', 'MORTGAGE', 'OWN', 'ANY'], dtype=object)"
      ]
     },
     "execution_count": 12,
     "metadata": {},
     "output_type": "execute_result"
    }
   ],
   "source": [
    "train['주택소유상태'].unique()"
   ]
  },
  {
   "cell_type": "code",
   "execution_count": 13,
   "id": "77358556",
   "metadata": {},
   "outputs": [
    {
     "data": {
      "text/plain": [
       "array(['MORTGAGE', 'RENT', 'OWN'], dtype=object)"
      ]
     },
     "execution_count": 13,
     "metadata": {},
     "output_type": "execute_result"
    }
   ],
   "source": [
    "test['주택소유상태'].unique()"
   ]
  },
  {
   "cell_type": "code",
   "execution_count": 14,
   "id": "e4c51f77",
   "metadata": {},
   "outputs": [],
   "source": [
    "train['주택소유상태'] = train['주택소유상태'].apply(change_value)\n",
    "train['주택소유상태'] = train['주택소유상태'].astype(int)"
   ]
  },
  {
   "cell_type": "code",
   "execution_count": 15,
   "id": "a0945aac",
   "metadata": {},
   "outputs": [],
   "source": [
    "test['주택소유상태'] = test['주택소유상태'].apply(change_value)\n",
    "test['주택소유상태'] = test['주택소유상태'].astype(int)"
   ]
  },
  {
   "cell_type": "code",
   "execution_count": 16,
   "id": "bd283a95",
   "metadata": {},
   "outputs": [
    {
     "data": {
      "text/plain": [
       "array([1, 2, 3, 4])"
      ]
     },
     "execution_count": 16,
     "metadata": {},
     "output_type": "execute_result"
    }
   ],
   "source": [
    "train['주택소유상태'].unique()"
   ]
  },
  {
   "cell_type": "code",
   "execution_count": 17,
   "id": "45fe78ec",
   "metadata": {},
   "outputs": [
    {
     "data": {
      "text/plain": [
       "array([2, 1, 3])"
      ]
     },
     "execution_count": 17,
     "metadata": {},
     "output_type": "execute_result"
    }
   ],
   "source": [
    "test['주택소유상태'].unique()"
   ]
  },
  {
   "cell_type": "code",
   "execution_count": 18,
   "id": "501c08d8",
   "metadata": {},
   "outputs": [],
   "source": [
    "test.loc[test['대출목적'].str.contains('결혼'), '대출목적'] = '기타'"
   ]
  },
  {
   "cell_type": "code",
   "execution_count": 19,
   "id": "f592db1c",
   "metadata": {},
   "outputs": [],
   "source": [
    "category_mapping = {\n",
    "    '부채 통합': 1,\n",
    "    '주택 개선': 2,\n",
    "    '휴가': 3,\n",
    "    '의료': 4,\n",
    "    '자동차': 5,\n",
    "    '기타': 6,\n",
    "    '신용 카드': 7,\n",
    "    '주요 구매': 8,\n",
    "    '이사': 9,\n",
    "    '소규모 사업': 10,\n",
    "    '주택': 11,\n",
    "    '재생 에너지': 12\n",
    "}\n",
    "\n",
    "train['대출목적'] = train['대출목적'].map(category_mapping)\n",
    "test['대출목적'] = test['대출목적'].map(category_mapping)\n",
    "train['대출목적'] = train['대출목적'].astype(int)\n",
    "test['대출목적'] = test['대출목적'].astype(int)"
   ]
  },
  {
   "cell_type": "code",
   "execution_count": 20,
   "id": "925fe1ec",
   "metadata": {},
   "outputs": [
    {
     "data": {
      "text/plain": [
       "array([ 1,  2,  3,  4,  5,  6,  7,  8,  9, 10, 11, 12])"
      ]
     },
     "execution_count": 20,
     "metadata": {},
     "output_type": "execute_result"
    }
   ],
   "source": [
    "train['대출목적'].unique()"
   ]
  },
  {
   "cell_type": "code",
   "execution_count": 21,
   "id": "722ca478",
   "metadata": {},
   "outputs": [
    {
     "data": {
      "text/plain": [
       "array([ 2,  1,  7,  6,  8,  9,  3, 10, 11,  4,  5, 12])"
      ]
     },
     "execution_count": 21,
     "metadata": {},
     "output_type": "execute_result"
    }
   ],
   "source": [
    "test['대출목적'].unique()"
   ]
  },
  {
   "cell_type": "code",
   "execution_count": 22,
   "id": "ff33a0d3",
   "metadata": {},
   "outputs": [],
   "source": [
    "test.drop('총연체금액', axis=1, inplace=True)\n",
    "test.drop('연체계좌수', axis=1, inplace=True)\n",
    "train.drop('총연체금액', axis=1, inplace=True)\n",
    "train.drop('연체계좌수', axis=1, inplace=True)"
   ]
  },
  {
   "cell_type": "code",
   "execution_count": 23,
   "id": "26b89257",
   "metadata": {},
   "outputs": [
    {
     "name": "stdout",
     "output_type": "stream",
     "text": [
      "<class 'pandas.core.frame.DataFrame'>\n",
      "Index: 90623 entries, 0 to 96293\n",
      "Data columns (total 13 columns):\n",
      " #   Column        Non-Null Count  Dtype  \n",
      "---  ------        --------------  -----  \n",
      " 0   ID            90623 non-null  object \n",
      " 1   대출금액          90623 non-null  int64  \n",
      " 2   대출기간          90623 non-null  int32  \n",
      " 3   근로기간          90623 non-null  float64\n",
      " 4   주택소유상태        90623 non-null  int32  \n",
      " 5   연간소득          90623 non-null  int64  \n",
      " 6   부채_대비_소득_비율   90623 non-null  float64\n",
      " 7   총계좌수          90623 non-null  int64  \n",
      " 8   대출목적          90623 non-null  int32  \n",
      " 9   최근_2년간_연체_횟수  90623 non-null  int64  \n",
      " 10  총상환원금         90623 non-null  int64  \n",
      " 11  총상환이자         90623 non-null  float64\n",
      " 12  대출등급          90623 non-null  object \n",
      "dtypes: float64(3), int32(3), int64(5), object(2)\n",
      "memory usage: 8.6+ MB\n"
     ]
    }
   ],
   "source": [
    "train.info()"
   ]
  },
  {
   "cell_type": "code",
   "execution_count": 24,
   "id": "630ba484",
   "metadata": {},
   "outputs": [],
   "source": [
    "X = train[['대출금액', '대출기간', '근로기간', '주택소유상태', '연간소득', '부채_대비_소득_비율', '총계좌수', '대출목적', '최근_2년간_연체_횟수', '총상환원금','총상환이자' ]]\n",
    "y = train['대출등급']"
   ]
  },
  {
   "cell_type": "code",
   "execution_count": 25,
   "id": "7c354956",
   "metadata": {},
   "outputs": [],
   "source": [
    "from sklearn.model_selection import train_test_split\n",
    "from lightgbm import LGBMClassifier\n",
    "from sklearn.model_selection import train_test_split\n",
    "from imblearn.over_sampling import SMOTE\n",
    "from sklearn.preprocessing import StandardScaler"
   ]
  },
  {
   "cell_type": "code",
   "execution_count": 26,
   "id": "d2b8509e",
   "metadata": {},
   "outputs": [],
   "source": [
    "X_train, X_test, y_train, y_test = train_test_split(X, y, test_size=0.15, random_state=42)"
   ]
  },
  {
   "cell_type": "code",
   "execution_count": 27,
   "id": "34ba7328",
   "metadata": {},
   "outputs": [],
   "source": [
    "# 정규화\n",
    "mm = StandardScaler() \n",
    "\n",
    "mm_X_train = mm.fit_transform(X_train)\n",
    "mm_X_test = mm.transform(X_test)"
   ]
  },
  {
   "cell_type": "code",
   "execution_count": 28,
   "id": "4b363e40",
   "metadata": {},
   "outputs": [],
   "source": [
    "# SMOTE 적용 (데이터 불균형 해소)\n",
    "X_train_over, y_train_over = SMOTE(random_state=0).fit_resample(mm_X_train, y_train)"
   ]
  },
  {
   "cell_type": "code",
   "execution_count": 29,
   "id": "ab939952",
   "metadata": {},
   "outputs": [
    {
     "data": {
      "text/html": [
       "<style>#sk-container-id-1 {color: black;}#sk-container-id-1 pre{padding: 0;}#sk-container-id-1 div.sk-toggleable {background-color: white;}#sk-container-id-1 label.sk-toggleable__label {cursor: pointer;display: block;width: 100%;margin-bottom: 0;padding: 0.3em;box-sizing: border-box;text-align: center;}#sk-container-id-1 label.sk-toggleable__label-arrow:before {content: \"▸\";float: left;margin-right: 0.25em;color: #696969;}#sk-container-id-1 label.sk-toggleable__label-arrow:hover:before {color: black;}#sk-container-id-1 div.sk-estimator:hover label.sk-toggleable__label-arrow:before {color: black;}#sk-container-id-1 div.sk-toggleable__content {max-height: 0;max-width: 0;overflow: hidden;text-align: left;background-color: #f0f8ff;}#sk-container-id-1 div.sk-toggleable__content pre {margin: 0.2em;color: black;border-radius: 0.25em;background-color: #f0f8ff;}#sk-container-id-1 input.sk-toggleable__control:checked~div.sk-toggleable__content {max-height: 200px;max-width: 100%;overflow: auto;}#sk-container-id-1 input.sk-toggleable__control:checked~label.sk-toggleable__label-arrow:before {content: \"▾\";}#sk-container-id-1 div.sk-estimator input.sk-toggleable__control:checked~label.sk-toggleable__label {background-color: #d4ebff;}#sk-container-id-1 div.sk-label input.sk-toggleable__control:checked~label.sk-toggleable__label {background-color: #d4ebff;}#sk-container-id-1 input.sk-hidden--visually {border: 0;clip: rect(1px 1px 1px 1px);clip: rect(1px, 1px, 1px, 1px);height: 1px;margin: -1px;overflow: hidden;padding: 0;position: absolute;width: 1px;}#sk-container-id-1 div.sk-estimator {font-family: monospace;background-color: #f0f8ff;border: 1px dotted black;border-radius: 0.25em;box-sizing: border-box;margin-bottom: 0.5em;}#sk-container-id-1 div.sk-estimator:hover {background-color: #d4ebff;}#sk-container-id-1 div.sk-parallel-item::after {content: \"\";width: 100%;border-bottom: 1px solid gray;flex-grow: 1;}#sk-container-id-1 div.sk-label:hover label.sk-toggleable__label {background-color: #d4ebff;}#sk-container-id-1 div.sk-serial::before {content: \"\";position: absolute;border-left: 1px solid gray;box-sizing: border-box;top: 0;bottom: 0;left: 50%;z-index: 0;}#sk-container-id-1 div.sk-serial {display: flex;flex-direction: column;align-items: center;background-color: white;padding-right: 0.2em;padding-left: 0.2em;position: relative;}#sk-container-id-1 div.sk-item {position: relative;z-index: 1;}#sk-container-id-1 div.sk-parallel {display: flex;align-items: stretch;justify-content: center;background-color: white;position: relative;}#sk-container-id-1 div.sk-item::before, #sk-container-id-1 div.sk-parallel-item::before {content: \"\";position: absolute;border-left: 1px solid gray;box-sizing: border-box;top: 0;bottom: 0;left: 50%;z-index: -1;}#sk-container-id-1 div.sk-parallel-item {display: flex;flex-direction: column;z-index: 1;position: relative;background-color: white;}#sk-container-id-1 div.sk-parallel-item:first-child::after {align-self: flex-end;width: 50%;}#sk-container-id-1 div.sk-parallel-item:last-child::after {align-self: flex-start;width: 50%;}#sk-container-id-1 div.sk-parallel-item:only-child::after {width: 0;}#sk-container-id-1 div.sk-dashed-wrapped {border: 1px dashed gray;margin: 0 0.4em 0.5em 0.4em;box-sizing: border-box;padding-bottom: 0.4em;background-color: white;}#sk-container-id-1 div.sk-label label {font-family: monospace;font-weight: bold;display: inline-block;line-height: 1.2em;}#sk-container-id-1 div.sk-label-container {text-align: center;}#sk-container-id-1 div.sk-container {/* jupyter's `normalize.less` sets `[hidden] { display: none; }` but bootstrap.min.css set `[hidden] { display: none !important; }` so we also need the `!important` here to be able to override the default hidden behavior on the sphinx rendered scikit-learn.org. See: https://github.com/scikit-learn/scikit-learn/issues/21755 */display: inline-block !important;position: relative;}#sk-container-id-1 div.sk-text-repr-fallback {display: none;}</style><div id=\"sk-container-id-1\" class=\"sk-top-container\"><div class=\"sk-text-repr-fallback\"><pre>LGBMClassifier(ramdom_state=0, verbose=-1)</pre><b>In a Jupyter environment, please rerun this cell to show the HTML representation or trust the notebook. <br />On GitHub, the HTML representation is unable to render, please try loading this page with nbviewer.org.</b></div><div class=\"sk-container\" hidden><div class=\"sk-item\"><div class=\"sk-estimator sk-toggleable\"><input class=\"sk-toggleable__control sk-hidden--visually\" id=\"sk-estimator-id-1\" type=\"checkbox\" checked><label for=\"sk-estimator-id-1\" class=\"sk-toggleable__label sk-toggleable__label-arrow\">LGBMClassifier</label><div class=\"sk-toggleable__content\"><pre>LGBMClassifier(ramdom_state=0, verbose=-1)</pre></div></div></div></div></div>"
      ],
      "text/plain": [
       "LGBMClassifier(ramdom_state=0, verbose=-1)"
      ]
     },
     "execution_count": 29,
     "metadata": {},
     "output_type": "execute_result"
    }
   ],
   "source": [
    "lgbm_model = LGBMClassifier(ramdom_state=0, verbose=-1)\n",
    "lgbm_model.fit(X_train_over, y_train_over)"
   ]
  },
  {
   "cell_type": "code",
   "execution_count": 30,
   "id": "537c6b68",
   "metadata": {},
   "outputs": [],
   "source": [
    "y_pred_lgbm = lgbm_model.predict(mm_X_test)"
   ]
  },
  {
   "cell_type": "code",
   "execution_count": 31,
   "id": "e9da11cd",
   "metadata": {},
   "outputs": [
    {
     "data": {
      "text/plain": [
       "0.8358834780050022"
      ]
     },
     "execution_count": 31,
     "metadata": {},
     "output_type": "execute_result"
    }
   ],
   "source": [
    "from sklearn.metrics import accuracy_score\n",
    "\n",
    "accuracy_score(y_test, y_pred_lgbm)"
   ]
  },
  {
   "cell_type": "code",
   "execution_count": 32,
   "id": "5324cb03",
   "metadata": {
    "scrolled": false
   },
   "outputs": [
    {
     "name": "stdout",
     "output_type": "stream",
     "text": [
      "Precision: [0.84354272 0.86163203 0.85355967 0.8231454  0.74952919 0.65217391\n",
      " 0.56521739], Recall: [0.90460251 0.83599705 0.86852282 0.73619958 0.76318313 0.76923077\n",
      " 0.67241379], F1-Score: [0.87300626 0.84862099 0.86097623 0.77724853 0.75629454 0.70588235\n",
      " 0.61417323]\n"
     ]
    }
   ],
   "source": [
    "from sklearn.metrics import precision_recall_fscore_support\n",
    "precision, recall, fscore, _ = precision_recall_fscore_support(y_test, y_pred_lgbm)\n",
    "print(f\"Precision: {precision}, Recall: {recall}, F1-Score: {fscore}\")"
   ]
  },
  {
   "cell_type": "code",
   "execution_count": 33,
   "id": "393e1ab3",
   "metadata": {},
   "outputs": [],
   "source": [
    "from lightgbm import LGBMClassifier\n",
    "from sklearn.model_selection import GridSearchCV\n",
    "from sklearn.model_selection import train_test_split\n",
    "from sklearn.metrics import precision_recall_fscore_support\n",
    "from sklearn.model_selection import RandomizedSearchCV\n",
    "import numpy as np"
   ]
  },
  {
   "cell_type": "code",
   "execution_count": 37,
   "id": "6f29b0fb",
   "metadata": {
    "scrolled": true
   },
   "outputs": [
    {
     "name": "stdout",
     "output_type": "stream",
     "text": [
      "Best Parameters: {'scale_pos_weight': 1, 'num_leaves': 45, 'min_child_samples': 15, 'max_depth': 11, 'learning_rate': 0.1, 'feature_fraction': 0.8, 'bagging_fraction': 0.5}\n",
      "Best Accuracy: 0.8875795749937616\n",
      "Precision: [0.85567823 0.86695064 0.87335569 0.83400345 0.77140169 0.66666667\n",
      " 0.6440678 ], Recall: [0.90794979 0.85074994 0.87290539 0.77070064 0.78619367 0.7985348\n",
      " 0.65517241], F1-Score: [0.88103938 0.85877389 0.87313048 0.80110345 0.77872745 0.72666667\n",
      " 0.64957265]\n"
     ]
    }
   ],
   "source": [
    "# F1 score == 0.92\n",
    "\n",
    "model = LGBMClassifier(verbose=-1)\n",
    "param  = {\n",
    "    'num_leaves' : [30,35,40,45],\n",
    "    'learning_rate' : [0.05, 0.1], \n",
    "    'max_depth' : [9,11,13], \n",
    "    'min_child_samples' : [5,10,15],\n",
    "    'feature_fraction' : [0.5,0.8,1.0], \n",
    "    'bagging_fraction' : [0.5, 0.8,1.0], \n",
    "    'scale_pos_weight' : [1]\n",
    "}\n",
    "\n",
    "random_search = RandomizedSearchCV(\n",
    "    model,             \n",
    "    param_distributions=param,  \n",
    "    n_iter=10,          \n",
    "    scoring='accuracy', \n",
    "    cv=3,               \n",
    "    random_state=42,    \n",
    "    n_jobs=-1           \n",
    ")\n",
    "\n",
    "random_search.fit(X_train_over, y_train_over)\n",
    "\n",
    "\n",
    "print(\"Best Parameters:\", random_search.best_params_)\n",
    "print(\"Best Accuracy:\", random_search.best_score_)\n",
    "y_pred = random_search.predict(mm_X_test)\n",
    "precision, recall, fscore, _ = precision_recall_fscore_support(y_test, y_pred)\n",
    "print(f\"Precision: {precision}, Recall: {recall}, F1-Score: {fscore}\")"
   ]
  },
  {
   "cell_type": "code",
   "execution_count": 48,
   "id": "cd5e7e15",
   "metadata": {},
   "outputs": [
    {
     "data": {
      "image/png": "[encoded data removed]",
      "text/plain": [
       "<Figure size 640x480 with 1 Axes>"
      ]
     },
     "metadata": {},
     "output_type": "display_data"
    }
   ],
   "source": [
    "import numpy as np\n",
    "import matplotlib.pyplot as plt\n",
    "from sklearn.model_selection import learning_curve\n",
    "from sklearn.model_selection import ShuffleSplit\n",
    "\n",
    "\n",
    "# 학습 곡선을 그리는 함수\n",
    "def plot_learning_curve(estimator, title, X, y, ylim=None, cv=None,\n",
    "                        n_jobs=None, train_sizes=np.linspace(.1, 1.0, 5)):\n",
    "    plt.figure()\n",
    "    plt.title(title)\n",
    "    if ylim is not None:\n",
    "        plt.ylim(*ylim)\n",
    "    plt.xlabel(\"Training examples\")\n",
    "    plt.ylabel(\"Score\")\n",
    "    train_sizes, train_scores, test_scores = learning_curve(\n",
    "        estimator, X, y, cv=cv, n_jobs=n_jobs, train_sizes=train_sizes, scoring='accuracy')\n",
    "    train_scores_mean = np.mean(train_scores, axis=1)\n",
    "    train_scores_std = np.std(train_scores, axis=1)\n",
    "    test_scores_mean = np.mean(test_scores, axis=1)\n",
    "    test_scores_std = np.std(test_scores, axis=1)\n",
    "\n",
    "    plt.fill_between(train_sizes, train_scores_mean - train_scores_std,\n",
    "                     train_scores_mean + train_scores_std, alpha=0.1,\n",
    "                     color=\"r\")\n",
    "    plt.fill_between(train_sizes, test_scores_mean - test_scores_std,\n",
    "                     test_scores_mean + test_scores_std, alpha=0.1, color=\"g\")\n",
    "    plt.plot(train_sizes, train_scores_mean, 'o-', color=\"r\",\n",
    "             label=\"Training score\")\n",
    "    plt.plot(train_sizes, test_scores_mean, 'o-', color=\"g\",\n",
    "             label=\"Cross-validation score\")\n",
    "\n",
    "    plt.legend(loc=\"best\")\n",
    "    return plt\n",
    "\n",
    "# 학습 곡선을 그리기 위한 데이터 설정\n",
    "title = \"Learning Curves\"\n",
    "cv = ShuffleSplit(n_splits=3, test_size=0.2, random_state=42)\n",
    "\n",
    "# plot_learning_curve 함수 호출\n",
    "plot_learning_curve(random_search.best_estimator_, title, X_train_over, y_train_over, cv=cv, n_jobs=-1)\n",
    "plt.show()"
   ]
  },
  {
   "cell_type": "code",
   "execution_count": 46,
   "id": "c05cf840",
   "metadata": {},
   "outputs": [
    {
     "name": "stdout",
     "output_type": "stream",
     "text": [
      "Cross-Validation Accuracy Scores: [0.79172358 0.79311415 0.80292447 0.79854708 0.80047189]\n",
      "Mean Accuracy: 0.7973562340592886\n"
     ]
    }
   ],
   "source": [
    "from sklearn.model_selection import cross_val_score\n",
    "from sklearn.ensemble import RandomForestClassifier\n",
    "\n",
    "# 모델 생성 (여기에 적절한 하이퍼파라미터 설정 필요)\n",
    "model = RandomForestClassifier(n_estimators=100, max_depth=11)\n",
    "\n",
    "# K-Fold Cross-Validation 수행 (cv는 폴드 수)\n",
    "cv_scores = cross_val_score(model, X_train_over, y_train_over, cv=5, scoring='accuracy')\n",
    "\n",
    "# 교차 검증 성능 출력\n",
    "print(\"Cross-Validation Accuracy Scores:\", cv_scores)\n",
    "\n",
    "# 평균 정확도 계산\n",
    "mean_accuracy = cv_scores.mean()\n",
    "print(\"Mean Accuracy:\", mean_accuracy)"
   ]
  },
  {
   "cell_type": "code",
   "execution_count": 38,
   "id": "79b08ca1",
   "metadata": {},
   "outputs": [
    {
     "data": {
      "text/plain": [
       "<Axes: title={'center': 'Feature importance'}, xlabel='Feature importance', ylabel='Features'>"
      ]
     },
     "execution_count": 38,
     "metadata": {},
     "output_type": "execute_result"
    },
    {
     "data": {
      "image/png": "[encoded data removed]",
      "text/plain": [
       "<Figure size 500x500 with 1 Axes>"
      ]
     },
     "metadata": {},
     "output_type": "display_data"
    }
   ],
   "source": [
    "from lightgbm import plot_importance\n",
    "import matplotlib.pyplot as plt\n",
    "import matplotlib\n",
    "%matplotlib inline\n",
    "matplotlib.rcParams['font.family'] ='Malgun Gothic'\n",
    "\n",
    "fig, ax = plt.subplots(figsize=(5,5))\n",
    "plot_importance(lgbm_model, ax=ax)"
   ]
  },
  {
   "cell_type": "code",
   "execution_count": 39,
   "id": "61ca7200",
   "metadata": {},
   "outputs": [],
   "source": [
    "id_column = test['ID']\n",
    "\n",
    "test.drop('ID', axis=1, inplace=True)\n",
    "\n",
    "test['대출등급'] = lgbm_model.predict(test)\n",
    "\n",
    "test.insert(0, 'ID', id_column)\n"
   ]
  },
  {
   "cell_type": "code",
   "execution_count": 40,
   "id": "41e78b35",
   "metadata": {
    "scrolled": true
   },
   "outputs": [
    {
     "data": {
      "text/html": [
       "<div>\n",
       "<style scoped>\n",
       "    .dataframe tbody tr th:only-of-type {\n",
       "        vertical-align: middle;\n",
       "    }\n",
       "\n",
       "    .dataframe tbody tr th {\n",
       "        vertical-align: top;\n",
       "    }\n",
       "\n",
       "    .dataframe thead th {\n",
       "        text-align: right;\n",
       "    }\n",
       "</style>\n",
       "<table border=\"1\" class=\"dataframe\">\n",
       "  <thead>\n",
       "    <tr style=\"text-align: right;\">\n",
       "      <th></th>\n",
       "      <th>ID</th>\n",
       "      <th>대출금액</th>\n",
       "      <th>대출기간</th>\n",
       "      <th>근로기간</th>\n",
       "      <th>주택소유상태</th>\n",
       "      <th>연간소득</th>\n",
       "      <th>부채_대비_소득_비율</th>\n",
       "      <th>총계좌수</th>\n",
       "      <th>대출목적</th>\n",
       "      <th>최근_2년간_연체_횟수</th>\n",
       "      <th>총상환원금</th>\n",
       "      <th>총상환이자</th>\n",
       "      <th>대출등급</th>\n",
       "    </tr>\n",
       "  </thead>\n",
       "  <tbody>\n",
       "    <tr>\n",
       "      <th>0</th>\n",
       "      <td>TEST_00000</td>\n",
       "      <td>16800000</td>\n",
       "      <td>36</td>\n",
       "      <td>8.0</td>\n",
       "      <td>2</td>\n",
       "      <td>132000000</td>\n",
       "      <td>19.64</td>\n",
       "      <td>12</td>\n",
       "      <td>2</td>\n",
       "      <td>0</td>\n",
       "      <td>394692</td>\n",
       "      <td>146604.0</td>\n",
       "      <td>D</td>\n",
       "    </tr>\n",
       "    <tr>\n",
       "      <th>1</th>\n",
       "      <td>TEST_00001</td>\n",
       "      <td>8400000</td>\n",
       "      <td>36</td>\n",
       "      <td>5.0</td>\n",
       "      <td>1</td>\n",
       "      <td>89971200</td>\n",
       "      <td>15.84</td>\n",
       "      <td>25</td>\n",
       "      <td>1</td>\n",
       "      <td>0</td>\n",
       "      <td>0</td>\n",
       "      <td>0.0</td>\n",
       "      <td>B</td>\n",
       "    </tr>\n",
       "    <tr>\n",
       "      <th>2</th>\n",
       "      <td>TEST_00002</td>\n",
       "      <td>17280000</td>\n",
       "      <td>36</td>\n",
       "      <td>6.0</td>\n",
       "      <td>1</td>\n",
       "      <td>150000000</td>\n",
       "      <td>8.41</td>\n",
       "      <td>20</td>\n",
       "      <td>7</td>\n",
       "      <td>0</td>\n",
       "      <td>1786980</td>\n",
       "      <td>281820.0</td>\n",
       "      <td>D</td>\n",
       "    </tr>\n",
       "    <tr>\n",
       "      <th>3</th>\n",
       "      <td>TEST_00003</td>\n",
       "      <td>14400000</td>\n",
       "      <td>36</td>\n",
       "      <td>5.0</td>\n",
       "      <td>2</td>\n",
       "      <td>66000000</td>\n",
       "      <td>13.72</td>\n",
       "      <td>30</td>\n",
       "      <td>7</td>\n",
       "      <td>1</td>\n",
       "      <td>669024</td>\n",
       "      <td>281724.0</td>\n",
       "      <td>D</td>\n",
       "    </tr>\n",
       "    <tr>\n",
       "      <th>4</th>\n",
       "      <td>TEST_00004</td>\n",
       "      <td>27600000</td>\n",
       "      <td>36</td>\n",
       "      <td>5.0</td>\n",
       "      <td>1</td>\n",
       "      <td>55200000</td>\n",
       "      <td>30.50</td>\n",
       "      <td>12</td>\n",
       "      <td>7</td>\n",
       "      <td>0</td>\n",
       "      <td>1250052</td>\n",
       "      <td>614844.0</td>\n",
       "      <td>D</td>\n",
       "    </tr>\n",
       "    <tr>\n",
       "      <th>...</th>\n",
       "      <td>...</td>\n",
       "      <td>...</td>\n",
       "      <td>...</td>\n",
       "      <td>...</td>\n",
       "      <td>...</td>\n",
       "      <td>...</td>\n",
       "      <td>...</td>\n",
       "      <td>...</td>\n",
       "      <td>...</td>\n",
       "      <td>...</td>\n",
       "      <td>...</td>\n",
       "      <td>...</td>\n",
       "      <td>...</td>\n",
       "    </tr>\n",
       "    <tr>\n",
       "      <th>64192</th>\n",
       "      <td>TEST_64192</td>\n",
       "      <td>30000000</td>\n",
       "      <td>36</td>\n",
       "      <td>3.0</td>\n",
       "      <td>2</td>\n",
       "      <td>78000000</td>\n",
       "      <td>22.08</td>\n",
       "      <td>27</td>\n",
       "      <td>1</td>\n",
       "      <td>2</td>\n",
       "      <td>1307532</td>\n",
       "      <td>763380.0</td>\n",
       "      <td>D</td>\n",
       "    </tr>\n",
       "    <tr>\n",
       "      <th>64193</th>\n",
       "      <td>TEST_64193</td>\n",
       "      <td>30000000</td>\n",
       "      <td>60</td>\n",
       "      <td>10.0</td>\n",
       "      <td>2</td>\n",
       "      <td>109200000</td>\n",
       "      <td>12.06</td>\n",
       "      <td>26</td>\n",
       "      <td>1</td>\n",
       "      <td>0</td>\n",
       "      <td>960612</td>\n",
       "      <td>1245252.0</td>\n",
       "      <td>D</td>\n",
       "    </tr>\n",
       "    <tr>\n",
       "      <th>64194</th>\n",
       "      <td>TEST_64194</td>\n",
       "      <td>6120000</td>\n",
       "      <td>36</td>\n",
       "      <td>10.0</td>\n",
       "      <td>1</td>\n",
       "      <td>39600000</td>\n",
       "      <td>28.80</td>\n",
       "      <td>33</td>\n",
       "      <td>1</td>\n",
       "      <td>0</td>\n",
       "      <td>131520</td>\n",
       "      <td>80880.0</td>\n",
       "      <td>D</td>\n",
       "    </tr>\n",
       "    <tr>\n",
       "      <th>64195</th>\n",
       "      <td>TEST_64195</td>\n",
       "      <td>11520000</td>\n",
       "      <td>36</td>\n",
       "      <td>10.0</td>\n",
       "      <td>2</td>\n",
       "      <td>66000000</td>\n",
       "      <td>25.44</td>\n",
       "      <td>41</td>\n",
       "      <td>1</td>\n",
       "      <td>1</td>\n",
       "      <td>1339536</td>\n",
       "      <td>601872.0</td>\n",
       "      <td>D</td>\n",
       "    </tr>\n",
       "    <tr>\n",
       "      <th>64196</th>\n",
       "      <td>TEST_64196</td>\n",
       "      <td>6000000</td>\n",
       "      <td>36</td>\n",
       "      <td>9.0</td>\n",
       "      <td>1</td>\n",
       "      <td>180000000</td>\n",
       "      <td>9.07</td>\n",
       "      <td>10</td>\n",
       "      <td>1</td>\n",
       "      <td>0</td>\n",
       "      <td>308880</td>\n",
       "      <td>48960.0</td>\n",
       "      <td>D</td>\n",
       "    </tr>\n",
       "  </tbody>\n",
       "</table>\n",
       "<p>60335 rows × 13 columns</p>\n",
       "</div>"
      ],
      "text/plain": [
       "               ID      대출금액  대출기간  근로기간  주택소유상태       연간소득  부채_대비_소득_비율  총계좌수  \\\n",
       "0      TEST_00000  16800000    36   8.0       2  132000000        19.64    12   \n",
       "1      TEST_00001   8400000    36   5.0       1   89971200        15.84    25   \n",
       "2      TEST_00002  17280000    36   6.0       1  150000000         8.41    20   \n",
       "3      TEST_00003  14400000    36   5.0       2   66000000        13.72    30   \n",
       "4      TEST_00004  27600000    36   5.0       1   55200000        30.50    12   \n",
       "...           ...       ...   ...   ...     ...        ...          ...   ...   \n",
       "64192  TEST_64192  30000000    36   3.0       2   78000000        22.08    27   \n",
       "64193  TEST_64193  30000000    60  10.0       2  109200000        12.06    26   \n",
       "64194  TEST_64194   6120000    36  10.0       1   39600000        28.80    33   \n",
       "64195  TEST_64195  11520000    36  10.0       2   66000000        25.44    41   \n",
       "64196  TEST_64196   6000000    36   9.0       1  180000000         9.07    10   \n",
       "\n",
       "       대출목적  최근_2년간_연체_횟수    총상환원금      총상환이자 대출등급  \n",
       "0         2             0   394692   146604.0    D  \n",
       "1         1             0        0        0.0    B  \n",
       "2         7             0  1786980   281820.0    D  \n",
       "3         7             1   669024   281724.0    D  \n",
       "4         7             0  1250052   614844.0    D  \n",
       "...     ...           ...      ...        ...  ...  \n",
       "64192     1             2  1307532   763380.0    D  \n",
       "64193     1             0   960612  1245252.0    D  \n",
       "64194     1             0   131520    80880.0    D  \n",
       "64195     1             1  1339536   601872.0    D  \n",
       "64196     1             0   308880    48960.0    D  \n",
       "\n",
       "[60335 rows x 13 columns]"
      ]
     },
     "execution_count": 40,
     "metadata": {},
     "output_type": "execute_result"
    }
   ],
   "source": [
    "test"
   ]
  },
  {
   "cell_type": "code",
   "execution_count": null,
   "id": "bd940613",
   "metadata": {},
   "outputs": [],
   "source": []
  },
  {
   "cell_type": "code",
   "execution_count": 41,
   "id": "39584098",
   "metadata": {},
   "outputs": [],
   "source": [
    "test_data = test[['ID', '대출등급']]"
   ]
  },
  {
   "cell_type": "code",
   "execution_count": 42,
   "id": "be335af1",
   "metadata": {},
   "outputs": [
    {
     "data": {
      "text/html": [
       "<div>\n",
       "<style scoped>\n",
       "    .dataframe tbody tr th:only-of-type {\n",
       "        vertical-align: middle;\n",
       "    }\n",
       "\n",
       "    .dataframe tbody tr th {\n",
       "        vertical-align: top;\n",
       "    }\n",
       "\n",
       "    .dataframe thead th {\n",
       "        text-align: right;\n",
       "    }\n",
       "</style>\n",
       "<table border=\"1\" class=\"dataframe\">\n",
       "  <thead>\n",
       "    <tr style=\"text-align: right;\">\n",
       "      <th></th>\n",
       "      <th>ID</th>\n",
       "      <th>대출등급</th>\n",
       "    </tr>\n",
       "  </thead>\n",
       "  <tbody>\n",
       "    <tr>\n",
       "      <th>0</th>\n",
       "      <td>TEST_00000</td>\n",
       "      <td>D</td>\n",
       "    </tr>\n",
       "    <tr>\n",
       "      <th>1</th>\n",
       "      <td>TEST_00001</td>\n",
       "      <td>B</td>\n",
       "    </tr>\n",
       "    <tr>\n",
       "      <th>2</th>\n",
       "      <td>TEST_00002</td>\n",
       "      <td>D</td>\n",
       "    </tr>\n",
       "    <tr>\n",
       "      <th>3</th>\n",
       "      <td>TEST_00003</td>\n",
       "      <td>D</td>\n",
       "    </tr>\n",
       "    <tr>\n",
       "      <th>4</th>\n",
       "      <td>TEST_00004</td>\n",
       "      <td>D</td>\n",
       "    </tr>\n",
       "    <tr>\n",
       "      <th>...</th>\n",
       "      <td>...</td>\n",
       "      <td>...</td>\n",
       "    </tr>\n",
       "    <tr>\n",
       "      <th>64192</th>\n",
       "      <td>TEST_64192</td>\n",
       "      <td>D</td>\n",
       "    </tr>\n",
       "    <tr>\n",
       "      <th>64193</th>\n",
       "      <td>TEST_64193</td>\n",
       "      <td>D</td>\n",
       "    </tr>\n",
       "    <tr>\n",
       "      <th>64194</th>\n",
       "      <td>TEST_64194</td>\n",
       "      <td>D</td>\n",
       "    </tr>\n",
       "    <tr>\n",
       "      <th>64195</th>\n",
       "      <td>TEST_64195</td>\n",
       "      <td>D</td>\n",
       "    </tr>\n",
       "    <tr>\n",
       "      <th>64196</th>\n",
       "      <td>TEST_64196</td>\n",
       "      <td>D</td>\n",
       "    </tr>\n",
       "  </tbody>\n",
       "</table>\n",
       "<p>60335 rows × 2 columns</p>\n",
       "</div>"
      ],
      "text/plain": [
       "               ID 대출등급\n",
       "0      TEST_00000    D\n",
       "1      TEST_00001    B\n",
       "2      TEST_00002    D\n",
       "3      TEST_00003    D\n",
       "4      TEST_00004    D\n",
       "...           ...  ...\n",
       "64192  TEST_64192    D\n",
       "64193  TEST_64193    D\n",
       "64194  TEST_64194    D\n",
       "64195  TEST_64195    D\n",
       "64196  TEST_64196    D\n",
       "\n",
       "[60335 rows x 2 columns]"
      ]
     },
     "execution_count": 42,
     "metadata": {},
     "output_type": "execute_result"
    }
   ],
   "source": [
    "test_data"
   ]
  },
  {
   "cell_type": "code",
   "execution_count": 43,
   "id": "4fb2bfe3",
   "metadata": {},
   "outputs": [
    {
     "data": {
      "text/plain": [
       "array(['D', 'B', 'F', 'G'], dtype=object)"
      ]
     },
     "execution_count": 43,
     "metadata": {},
     "output_type": "execute_result"
    }
   ],
   "source": [
    "test_data['대출등급'].unique()"
   ]
  },
  {
   "cell_type": "code",
   "execution_count": 44,
   "id": "a4aa82f1",
   "metadata": {},
   "outputs": [
    {
     "data": {
      "text/plain": [
       "array(['C', 'B', 'A', 'D', 'F', 'G', 'E'], dtype=object)"
      ]
     },
     "execution_count": 44,
     "metadata": {},
     "output_type": "execute_result"
    }
   ],
   "source": [
    "train['대출등급'].unique()"
   ]
  },
  {
   "cell_type": "code",
   "execution_count": null,
   "id": "b6eb7684",
   "metadata": {},
   "outputs": [],
   "source": []
  }
 ],
 "metadata": {
  "kernelspec": {
   "display_name": "Python 3 (ipykernel)",
   "language": "python",
   "name": "python3"
  },
  "language_info": {
   "codemirror_mode": {
    "name": "ipython",
    "version": 3
   },
   "file_extension": ".py",
   "mimetype": "text/x-python",
   "name": "python",
   "nbconvert_exporter": "python",
   "pygments_lexer": "ipython3",
   "version": "3.11.5"
  }
 },
 "nbformat": 4,
 "nbformat_minor": 5
}
